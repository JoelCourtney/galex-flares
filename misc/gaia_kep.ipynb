{
 "cells": [
  {
   "cell_type": "code",
   "execution_count": null,
   "metadata": {},
   "outputs": [],
   "source": []
  },
  {
   "cell_type": "code",
   "execution_count": 4,
   "metadata": {},
   "outputs": [
    {
     "name": "stdout",
     "output_type": "stream",
     "text": [
      "Created TAP+ (v1.0.1) - Connection:\n",
      "\tHost: gea.esac.esa.int\n",
      "\tUse HTTPS: False\n",
      "\tPort: 80\n",
      "\tSSL Port: 443\n"
     ]
    },
    {
     "name": "stderr",
     "output_type": "stream",
     "text": [
      "/home/joel/.local/lib/python3.6/site-packages/requests/__init__.py:91: RequestsDependencyWarning: urllib3 (1.24.3) or chardet (2.1.1) doesn't match a supported version!\n",
      "  RequestsDependencyWarning)\n"
     ]
    }
   ],
   "source": [
    "import astropy.units as u\n",
    "from astropy.coordinates.sky_coordinate import SkyCoord\n",
    "from astropy.units import Quantity\n",
    "from astroquery.gaia import Gaia"
   ]
  },
  {
   "cell_type": "code",
   "execution_count": 5,
   "metadata": {},
   "outputs": [],
   "source": [
    "%matplotlib inline\n",
    "import matplotlib.pyplot as plt\n",
    "import numpy as np"
   ]
  },
  {
   "cell_type": "code",
   "execution_count": 6,
   "metadata": {},
   "outputs": [],
   "source": [
    "# Suppress warnings. Comment this out if you wish to see the warning messages\n",
    "import warnings\n",
    "warnings.filterwarnings('ignore')"
   ]
  },
  {
   "cell_type": "code",
   "execution_count": 7,
   "metadata": {},
   "outputs": [
    {
     "name": "stdout",
     "output_type": "stream",
     "text": [
      "Retrieving tables...\n",
      "Parsing tables...\n",
      "Done.\n",
      "external.external.apassdr9\n",
      "external.external.gaiadr2_geometric_distance\n",
      "external.external.ravedr5_com\n",
      "external.external.ravedr5_dr5\n",
      "external.external.ravedr5_gra\n",
      "external.external.ravedr5_on\n",
      "external.external.sdssdr13_photoprimary\n",
      "external.external.skymapperdr1_master\n",
      "external.external.tmass_xsc\n",
      "public.public.hipparcos\n",
      "public.public.hipparcos_newreduction\n",
      "public.public.hubble_sc\n",
      "public.public.igsl_source\n",
      "public.public.igsl_source_catalog_ids\n",
      "public.public.tycho2\n",
      "public.public.dual\n",
      "tap_config.tap_config.coord_sys\n",
      "tap_schema.tap_schema.columns\n",
      "tap_schema.tap_schema.key_columns\n",
      "tap_schema.tap_schema.keys\n",
      "tap_schema.tap_schema.schemas\n",
      "tap_schema.tap_schema.tables\n",
      "gaiadr1.gaiadr1.aux_qso_icrf2_match\n",
      "gaiadr1.gaiadr1.ext_phot_zero_point\n",
      "gaiadr1.gaiadr1.allwise_best_neighbour\n",
      "gaiadr1.gaiadr1.allwise_neighbourhood\n",
      "gaiadr1.gaiadr1.gsc23_best_neighbour\n",
      "gaiadr1.gaiadr1.gsc23_neighbourhood\n",
      "gaiadr1.gaiadr1.ppmxl_best_neighbour\n",
      "gaiadr1.gaiadr1.ppmxl_neighbourhood\n",
      "gaiadr1.gaiadr1.sdss_dr9_best_neighbour\n",
      "gaiadr1.gaiadr1.sdss_dr9_neighbourhood\n",
      "gaiadr1.gaiadr1.tmass_best_neighbour\n",
      "gaiadr1.gaiadr1.tmass_neighbourhood\n",
      "gaiadr1.gaiadr1.ucac4_best_neighbour\n",
      "gaiadr1.gaiadr1.ucac4_neighbourhood\n",
      "gaiadr1.gaiadr1.urat1_best_neighbour\n",
      "gaiadr1.gaiadr1.urat1_neighbourhood\n",
      "gaiadr1.gaiadr1.cepheid\n",
      "gaiadr1.gaiadr1.phot_variable_time_series_gfov\n",
      "gaiadr1.gaiadr1.phot_variable_time_series_gfov_statistical_parameters\n",
      "gaiadr1.gaiadr1.rrlyrae\n",
      "gaiadr1.gaiadr1.variable_summary\n",
      "gaiadr1.gaiadr1.allwise_original_valid\n",
      "gaiadr1.gaiadr1.gsc23_original_valid\n",
      "gaiadr1.gaiadr1.ppmxl_original_valid\n",
      "gaiadr1.gaiadr1.sdssdr9_original_valid\n",
      "gaiadr1.gaiadr1.tmass_original_valid\n",
      "gaiadr1.gaiadr1.ucac4_original_valid\n",
      "gaiadr1.gaiadr1.urat1_original_valid\n",
      "gaiadr1.gaiadr1.gaia_source\n",
      "gaiadr1.gaiadr1.tgas_source\n",
      "gaiadr2.gaiadr2.aux_allwise_agn_gdr2_cross_id\n",
      "gaiadr2.gaiadr2.aux_iers_gdr2_cross_id\n",
      "gaiadr2.gaiadr2.aux_sso_orbit_residuals\n",
      "gaiadr2.gaiadr2.aux_sso_orbits\n",
      "gaiadr2.gaiadr2.dr1_neighbourhood\n",
      "gaiadr2.gaiadr2.allwise_best_neighbour\n",
      "gaiadr2.gaiadr2.allwise_neighbourhood\n",
      "gaiadr2.gaiadr2.apassdr9_best_neighbour\n",
      "gaiadr2.gaiadr2.apassdr9_neighbourhood\n",
      "gaiadr2.gaiadr2.gsc23_best_neighbour\n",
      "gaiadr2.gaiadr2.gsc23_neighbourhood\n",
      "gaiadr2.gaiadr2.hipparcos2_best_neighbour\n",
      "gaiadr2.gaiadr2.hipparcos2_neighbourhood\n",
      "gaiadr2.gaiadr2.panstarrs1_best_neighbour\n",
      "gaiadr2.gaiadr2.panstarrs1_neighbourhood\n",
      "gaiadr2.gaiadr2.ppmxl_best_neighbour\n",
      "gaiadr2.gaiadr2.ppmxl_neighbourhood\n",
      "gaiadr2.gaiadr2.ravedr5_best_neighbour\n",
      "gaiadr2.gaiadr2.ravedr5_neighbourhood\n",
      "gaiadr2.gaiadr2.sdssdr9_best_neighbour\n",
      "gaiadr2.gaiadr2.sdssdr9_neighbourhood\n",
      "gaiadr2.gaiadr2.tmass_best_neighbour\n",
      "gaiadr2.gaiadr2.tmass_neighbourhood\n",
      "gaiadr2.gaiadr2.tycho2_best_neighbour\n",
      "gaiadr2.gaiadr2.tycho2_neighbourhood\n",
      "gaiadr2.gaiadr2.urat1_best_neighbour\n",
      "gaiadr2.gaiadr2.urat1_neighbourhood\n",
      "gaiadr2.gaiadr2.sso_observation\n",
      "gaiadr2.gaiadr2.sso_source\n",
      "gaiadr2.gaiadr2.vari_cepheid\n",
      "gaiadr2.gaiadr2.vari_classifier_class_definition\n",
      "gaiadr2.gaiadr2.vari_classifier_definition\n",
      "gaiadr2.gaiadr2.vari_classifier_result\n",
      "gaiadr2.gaiadr2.vari_long_period_variable\n",
      "gaiadr2.gaiadr2.vari_rotation_modulation\n",
      "gaiadr2.gaiadr2.vari_rrlyrae\n",
      "gaiadr2.gaiadr2.vari_short_timescale\n",
      "gaiadr2.gaiadr2.vari_time_series_statistics\n",
      "gaiadr2.gaiadr2.panstarrs1_original_valid\n",
      "gaiadr2.gaiadr2.gaia_source\n",
      "gaiadr2.gaiadr2.ruwe\n"
     ]
    }
   ],
   "source": [
    "from astroquery.gaia import Gaia\n",
    "tables = Gaia.load_tables(only_names=True)\n",
    "for table in (tables):\n",
    "    print (table.get_qualified_name())"
   ]
  },
  {
   "cell_type": "code",
   "execution_count": null,
   "metadata": {},
   "outputs": [],
   "source": []
  },
  {
   "cell_type": "code",
   "execution_count": null,
   "metadata": {},
   "outputs": [],
   "source": []
  },
  {
   "cell_type": "code",
   "execution_count": 8,
   "metadata": {},
   "outputs": [],
   "source": [
    "# Now we are querying Gaia Data Release 2 aka \"DR2\" to get more stars and get the color (only in DR2)\n",
    "job4 = Gaia.launch_job_async(\"SELECT * \\\n",
    "FROM gaiadr2.gaia_source \\\n",
    "WHERE CONTAINS(POINT('ICRS',gaiadr2.gaia_source.ra,gaiadr2.gaia_source.dec),CIRCLE('ICRS',56.75,24.1167,2))=1 \\\n",
    "AND abs(pmra_error/pmra)<0.10 \\\n",
    "AND abs(pmdec_error/pmdec)<0.10 \\\n",
    "AND pmra IS NOT NULL AND abs(pmra)>0 \\\n",
    "AND pmdec IS NOT NULL AND abs(pmdec)>0 \\\n",
    "AND pmra BETWEEN 15 AND 25 \\\n",
    "AND pmdec BETWEEN -55 AND -40;\", dump_to_file=True)"
   ]
  },
  {
   "cell_type": "code",
   "execution_count": 9,
   "metadata": {},
   "outputs": [],
   "source": [
    "# Make a color-magnitude diagram (absolute G-band magnitude vs. BP-RP)\n",
    "import numpy as np\n",
    "m45cluster = job4.get_results() \n",
    "px = m45cluster[\"parallax\"]\n",
    "color = m45cluster[\"bp_rp\"]\n",
    "abs_Gmag = m45cluster[\"phot_g_mean_mag\"] - (5.0 * np.log10(1./(px/1000.)) - 5.0)\n",
    "app_Gmag = m45cluster[\"phot_g_mean_mag\"] "
   ]
  },
  {
   "cell_type": "code",
   "execution_count": 16,
   "metadata": {},
   "outputs": [],
   "source": [
    "import datamatrix as dm"
   ]
  },
  {
   "cell_type": "code",
   "execution_count": 24,
   "metadata": {},
   "outputs": [],
   "source": [
    "MS_color = [-0.037, 0.377, 0.82, 0.98,1.84,2.09,2.25,2.49,3.13,3.95,4.8]  #http://www.pas.rochester.edu/~emamajek/EEM_dwarf_UBVIJHK_colors_Teff.txt\n",
    "MS_G = [1.09, 2.46, 4.65, 5.53,8.26,8.87,9.38,10.05,12.02,14.48,15.73]\n",
    "\n",
    "MS_label = ['A0','F0','G2','K0','M0','M1','M2','M3','M4.5','M6','M8']\n",
    "\n",
    "M_gj1243 = (11.55, 83.48)\n",
    "M_gj1243 = 11.55\n",
    "col_gj1243 = 2.83\n",
    "\n",
    "M_yzcmi = (9.68, 167.019)\n",
    "M_yzcmi = 9.68\n",
    "col_yzcmi = 3.00\n",
    "\n",
    "M_dtvir = (8.91, 86.85)\n",
    "M_dtvir = 8.91\n",
    "col_dtvir = 2.16\n",
    "\n",
    "M_aumic =(7.84, 102.89)\n",
    "M_aumic =7.84\n",
    "col_aumic = 2.12\n",
    "\n",
    "M_yygem = (8.32, 66.23)\n",
    "M_yygem = 8.32\n",
    "col_yygem = 1.94\n",
    "\n",
    "M_9024 = (5.62, 7.169)\n",
    "M_9024 = 5.62\n",
    "col_9024 = 1.028\n",
    "\n",
    "M_KIC11610797 = (11.456, 3.5796)\n",
    "M_KIC11610797 = 11.456\n",
    "col_KIC11610797 =0.773\n",
    "\n",
    "M_KIC11551430a = (10.713, 3.056)\n",
    "M_KIC11551430a = 10.713\n",
    "col_KIC11551430a = 0.94\n",
    "\n",
    "M_KIC11551430b = (12.62, 2.873)\n",
    "M_KIC11551430b = 12.62\n",
    "col_KIC11551430b = 0.88\n",
    "\n",
    "pearl = (10.71, 3.056) # KIC11551430  ... lol this is the one above!\n",
    "pearl = 10.71# KIC11551430  ... lol this is the one above!\n",
    "col_pearl = 0.94\n",
    "\n",
    "pearl2 = (12.62, 2.873) # KIC11551430\n",
    "pearl2 = 12.62 # KIC11551430\n",
    "col_pearl2 = 0.88"
   ]
  },
  {
   "cell_type": "code",
   "execution_count": null,
   "metadata": {},
   "outputs": [],
   "source": []
  },
  {
   "cell_type": "code",
   "execution_count": 25,
   "metadata": {},
   "outputs": [
    {
     "data": {
      "text/plain": [
       "<matplotlib.collections.PathCollection at 0x7fbc7de3a668>"
      ]
     },
     "execution_count": 25,
     "metadata": {},
     "output_type": "execute_result"
    },
    {
     "data": {
      "image/png": "[encoded data removed]",
      "text/plain": [
       "<Figure size 720x576 with 1 Axes>"
      ]
     },
     "metadata": {},
     "output_type": "display_data"
    }
   ],
   "source": [
    "plt.rc('font', family='serif',size=14)\n",
    "fig = plt.figure(figsize=(10,8))\n",
    "plt.scatter(color, abs_Gmag, color='#EE6677', alpha=0.3)\n",
    "plt.xlabel('Bp-Rp')\n",
    "plt.ylabel('Absolute M_G')\n",
    "plt.axis([-1,4,15,-5])\n",
    "i = 0\n",
    "while i < len(MS_color):\n",
    "    plt.text(MS_color[i]-0.15,MS_G[i]+1, MS_label[i],alpha=0.5)\n",
    "    i = i +1\n",
    "plt.plot(col_gj1243, M_gj1243,marker='o',color='black')\n",
    "plt.plot(col_dtvir, M_dtvir,marker='o',color='black')\n",
    "plt.text(col_dtvir, M_dtvir, 'DT Vir')\n",
    "plt.plot(col_aumic, M_aumic,marker='o',color='black')\n",
    "plt.text(col_aumic, M_aumic, 'AU Mic')\n",
    "plt.plot(col_yygem, M_yygem,marker='o',color='black')\n",
    "plt.plot(col_yzcmi, M_yzcmi,marker='o',color='black')\n",
    "plt.plot(col_9024, M_9024,marker='o',color='black')\n",
    "\n",
    "plt.plot(col_KIC11610797, M_KIC11610797,marker='o',color='black')\n",
    "plt.plot(col_KIC11551430a, M_KIC11551430a,marker='o',color='blue')\n",
    "plt.plot(col_KIC11551430b, M_KIC11551430b,marker='o',color='yellow')\n",
    "plt.plot(col_pearl, pearl,marker='o',color='purple')\n",
    "plt.plot(col_pearl2, pearl2,marker='o',color='purple')\n",
    "plt.scatter(MS_color, MS_G, color='black',marker='+',alpha=0.5)\n"
   ]
  },
  {
   "cell_type": "code",
   "execution_count": 5,
   "metadata": {},
   "outputs": [],
   "source": []
  },
  {
   "cell_type": "code",
   "execution_count": 26,
   "metadata": {},
   "outputs": [
    {
     "ename": "FileNotFoundError",
     "evalue": "[Errno 2] No such file or directory: 'GaiaDR2_RevisedPassbands.dat'",
     "output_type": "error",
     "traceback": [
      "\u001b[0;31m---------------------------------------------------------------------------\u001b[0m",
      "\u001b[0;31mFileNotFoundError\u001b[0m                         Traceback (most recent call last)",
      "\u001b[0;32m<ipython-input-26-c65b9c99ec3f>\u001b[0m in \u001b[0;36m<module>\u001b[0;34m()\u001b[0m\n\u001b[1;32m      1\u001b[0m \u001b[0;32mimport\u001b[0m \u001b[0mastropy\u001b[0m\u001b[0;34m.\u001b[0m\u001b[0mio\u001b[0m\u001b[0;34m.\u001b[0m\u001b[0mascii\u001b[0m \u001b[0;32mas\u001b[0m \u001b[0mascii\u001b[0m\u001b[0;34m\u001b[0m\u001b[0;34m\u001b[0m\u001b[0m\n\u001b[0;32m----> 2\u001b[0;31m \u001b[0mdata\u001b[0m \u001b[0;34m=\u001b[0m \u001b[0mascii\u001b[0m\u001b[0;34m.\u001b[0m\u001b[0mread\u001b[0m\u001b[0;34m(\u001b[0m\u001b[0;34m'GaiaDR2_RevisedPassbands.dat'\u001b[0m\u001b[0;34m)\u001b[0m\u001b[0;34m\u001b[0m\u001b[0;34m\u001b[0m\u001b[0m\n\u001b[0m\u001b[1;32m      3\u001b[0m \u001b[0mwl\u001b[0m \u001b[0;34m=\u001b[0m \u001b[0mdata\u001b[0m\u001b[0;34m[\u001b[0m\u001b[0;34m'wl'\u001b[0m\u001b[0;34m]\u001b[0m\u001b[0;34m\u001b[0m\u001b[0;34m\u001b[0m\u001b[0m\n\u001b[1;32m      4\u001b[0m \u001b[0mwl_a\u001b[0m \u001b[0;34m=\u001b[0m \u001b[0mwl\u001b[0m \u001b[0;34m*\u001b[0m \u001b[0;36m10.0\u001b[0m\u001b[0;34m\u001b[0m\u001b[0;34m\u001b[0m\u001b[0m\n\u001b[1;32m      5\u001b[0m \u001b[0;31m#print(wl_a)\u001b[0m\u001b[0;34m\u001b[0m\u001b[0;34m\u001b[0m\u001b[0;34m\u001b[0m\u001b[0m\n",
      "\u001b[0;32m/home/joel/.local/lib/python3.6/site-packages/astropy/io/ascii/ui.py\u001b[0m in \u001b[0;36mread\u001b[0;34m(table, guess, **kwargs)\u001b[0m\n\u001b[1;32m    371\u001b[0m         \u001b[0;31m# through below to the non-guess way so that any problems result in a\u001b[0m\u001b[0;34m\u001b[0m\u001b[0;34m\u001b[0m\u001b[0;34m\u001b[0m\u001b[0m\n\u001b[1;32m    372\u001b[0m         \u001b[0;31m# more useful traceback.\u001b[0m\u001b[0;34m\u001b[0m\u001b[0;34m\u001b[0m\u001b[0;34m\u001b[0m\u001b[0m\n\u001b[0;32m--> 373\u001b[0;31m         \u001b[0mdat\u001b[0m \u001b[0;34m=\u001b[0m \u001b[0m_guess\u001b[0m\u001b[0;34m(\u001b[0m\u001b[0mtable\u001b[0m\u001b[0;34m,\u001b[0m \u001b[0mnew_kwargs\u001b[0m\u001b[0;34m,\u001b[0m \u001b[0mformat\u001b[0m\u001b[0;34m,\u001b[0m \u001b[0mfast_reader\u001b[0m\u001b[0;34m)\u001b[0m\u001b[0;34m\u001b[0m\u001b[0;34m\u001b[0m\u001b[0m\n\u001b[0m\u001b[1;32m    374\u001b[0m         \u001b[0;32mif\u001b[0m \u001b[0mdat\u001b[0m \u001b[0;32mis\u001b[0m \u001b[0;32mNone\u001b[0m\u001b[0;34m:\u001b[0m\u001b[0;34m\u001b[0m\u001b[0;34m\u001b[0m\u001b[0m\n\u001b[1;32m    375\u001b[0m             \u001b[0mguess\u001b[0m \u001b[0;34m=\u001b[0m \u001b[0;32mFalse\u001b[0m\u001b[0;34m\u001b[0m\u001b[0;34m\u001b[0m\u001b[0m\n",
      "\u001b[0;32m/home/joel/.local/lib/python3.6/site-packages/astropy/io/ascii/ui.py\u001b[0m in \u001b[0;36m_guess\u001b[0;34m(table, read_kwargs, format, fast_reader)\u001b[0m\n\u001b[1;32m    528\u001b[0m \u001b[0;34m\u001b[0m\u001b[0m\n\u001b[1;32m    529\u001b[0m             \u001b[0mreader\u001b[0m\u001b[0;34m.\u001b[0m\u001b[0mguessing\u001b[0m \u001b[0;34m=\u001b[0m \u001b[0;32mTrue\u001b[0m\u001b[0;34m\u001b[0m\u001b[0;34m\u001b[0m\u001b[0m\n\u001b[0;32m--> 530\u001b[0;31m             \u001b[0mdat\u001b[0m \u001b[0;34m=\u001b[0m \u001b[0mreader\u001b[0m\u001b[0;34m.\u001b[0m\u001b[0mread\u001b[0m\u001b[0;34m(\u001b[0m\u001b[0mtable\u001b[0m\u001b[0;34m)\u001b[0m\u001b[0;34m\u001b[0m\u001b[0;34m\u001b[0m\u001b[0m\n\u001b[0m\u001b[1;32m    531\u001b[0m             _read_trace.append({'kwargs': copy.deepcopy(guess_kwargs),\n\u001b[1;32m    532\u001b[0m                                 \u001b[0;34m'Reader'\u001b[0m\u001b[0;34m:\u001b[0m \u001b[0mreader\u001b[0m\u001b[0;34m.\u001b[0m\u001b[0m__class__\u001b[0m\u001b[0;34m,\u001b[0m\u001b[0;34m\u001b[0m\u001b[0;34m\u001b[0m\u001b[0m\n",
      "\u001b[0;32m/home/joel/.local/lib/python3.6/site-packages/astropy/io/ascii/core.py\u001b[0m in \u001b[0;36mread\u001b[0;34m(self, table)\u001b[0m\n\u001b[1;32m   1152\u001b[0m \u001b[0;34m\u001b[0m\u001b[0m\n\u001b[1;32m   1153\u001b[0m         \u001b[0;31m# Get a list of the lines (rows) in the table\u001b[0m\u001b[0;34m\u001b[0m\u001b[0;34m\u001b[0m\u001b[0;34m\u001b[0m\u001b[0m\n\u001b[0;32m-> 1154\u001b[0;31m         \u001b[0mself\u001b[0m\u001b[0;34m.\u001b[0m\u001b[0mlines\u001b[0m \u001b[0;34m=\u001b[0m \u001b[0mself\u001b[0m\u001b[0;34m.\u001b[0m\u001b[0minputter\u001b[0m\u001b[0;34m.\u001b[0m\u001b[0mget_lines\u001b[0m\u001b[0;34m(\u001b[0m\u001b[0mtable\u001b[0m\u001b[0;34m)\u001b[0m\u001b[0;34m\u001b[0m\u001b[0;34m\u001b[0m\u001b[0m\n\u001b[0m\u001b[1;32m   1155\u001b[0m \u001b[0;34m\u001b[0m\u001b[0m\n\u001b[1;32m   1156\u001b[0m         \u001b[0;31m# Set self.data.data_lines to a slice of lines contain the data rows\u001b[0m\u001b[0;34m\u001b[0m\u001b[0;34m\u001b[0m\u001b[0;34m\u001b[0m\u001b[0m\n",
      "\u001b[0;32m/home/joel/.local/lib/python3.6/site-packages/astropy/io/ascii/core.py\u001b[0m in \u001b[0;36mget_lines\u001b[0;34m(self, table)\u001b[0m\n\u001b[1;32m    301\u001b[0m                     ('\\n' not in table + '' and '\\r' not in table + '')):\n\u001b[1;32m    302\u001b[0m                 with get_readable_fileobj(table,\n\u001b[0;32m--> 303\u001b[0;31m                                           encoding=self.encoding) as fileobj:\n\u001b[0m\u001b[1;32m    304\u001b[0m                     \u001b[0mtable\u001b[0m \u001b[0;34m=\u001b[0m \u001b[0mfileobj\u001b[0m\u001b[0;34m.\u001b[0m\u001b[0mread\u001b[0m\u001b[0;34m(\u001b[0m\u001b[0;34m)\u001b[0m\u001b[0;34m\u001b[0m\u001b[0;34m\u001b[0m\u001b[0m\n\u001b[1;32m    305\u001b[0m             \u001b[0mlines\u001b[0m \u001b[0;34m=\u001b[0m \u001b[0mtable\u001b[0m\u001b[0;34m.\u001b[0m\u001b[0msplitlines\u001b[0m\u001b[0;34m(\u001b[0m\u001b[0;34m)\u001b[0m\u001b[0;34m\u001b[0m\u001b[0;34m\u001b[0m\u001b[0m\n",
      "\u001b[0;32m/usr/lib/python3.6/contextlib.py\u001b[0m in \u001b[0;36m__enter__\u001b[0;34m(self)\u001b[0m\n\u001b[1;32m     79\u001b[0m     \u001b[0;32mdef\u001b[0m \u001b[0m__enter__\u001b[0m\u001b[0;34m(\u001b[0m\u001b[0mself\u001b[0m\u001b[0;34m)\u001b[0m\u001b[0;34m:\u001b[0m\u001b[0;34m\u001b[0m\u001b[0;34m\u001b[0m\u001b[0m\n\u001b[1;32m     80\u001b[0m         \u001b[0;32mtry\u001b[0m\u001b[0;34m:\u001b[0m\u001b[0;34m\u001b[0m\u001b[0;34m\u001b[0m\u001b[0m\n\u001b[0;32m---> 81\u001b[0;31m             \u001b[0;32mreturn\u001b[0m \u001b[0mnext\u001b[0m\u001b[0;34m(\u001b[0m\u001b[0mself\u001b[0m\u001b[0;34m.\u001b[0m\u001b[0mgen\u001b[0m\u001b[0;34m)\u001b[0m\u001b[0;34m\u001b[0m\u001b[0;34m\u001b[0m\u001b[0m\n\u001b[0m\u001b[1;32m     82\u001b[0m         \u001b[0;32mexcept\u001b[0m \u001b[0mStopIteration\u001b[0m\u001b[0;34m:\u001b[0m\u001b[0;34m\u001b[0m\u001b[0;34m\u001b[0m\u001b[0m\n\u001b[1;32m     83\u001b[0m             \u001b[0;32mraise\u001b[0m \u001b[0mRuntimeError\u001b[0m\u001b[0;34m(\u001b[0m\u001b[0;34m\"generator didn't yield\"\u001b[0m\u001b[0;34m)\u001b[0m \u001b[0;32mfrom\u001b[0m \u001b[0;32mNone\u001b[0m\u001b[0;34m\u001b[0m\u001b[0;34m\u001b[0m\u001b[0m\n",
      "\u001b[0;32m/home/joel/.local/lib/python3.6/site-packages/astropy/utils/data.py\u001b[0m in \u001b[0;36mget_readable_fileobj\u001b[0;34m(name_or_obj, encoding, cache, show_progress, remote_timeout)\u001b[0m\n\u001b[1;32m    191\u001b[0m                 \u001b[0mname_or_obj\u001b[0m\u001b[0;34m,\u001b[0m \u001b[0mcache\u001b[0m\u001b[0;34m=\u001b[0m\u001b[0mcache\u001b[0m\u001b[0;34m,\u001b[0m \u001b[0mshow_progress\u001b[0m\u001b[0;34m=\u001b[0m\u001b[0mshow_progress\u001b[0m\u001b[0;34m,\u001b[0m\u001b[0;34m\u001b[0m\u001b[0;34m\u001b[0m\u001b[0m\n\u001b[1;32m    192\u001b[0m                 timeout=remote_timeout)\n\u001b[0;32m--> 193\u001b[0;31m         \u001b[0mfileobj\u001b[0m \u001b[0;34m=\u001b[0m \u001b[0mio\u001b[0m\u001b[0;34m.\u001b[0m\u001b[0mFileIO\u001b[0m\u001b[0;34m(\u001b[0m\u001b[0mname_or_obj\u001b[0m\u001b[0;34m,\u001b[0m \u001b[0;34m'r'\u001b[0m\u001b[0;34m)\u001b[0m\u001b[0;34m\u001b[0m\u001b[0;34m\u001b[0m\u001b[0m\n\u001b[0m\u001b[1;32m    194\u001b[0m         \u001b[0;32mif\u001b[0m \u001b[0mis_url\u001b[0m \u001b[0;32mand\u001b[0m \u001b[0;32mnot\u001b[0m \u001b[0mcache\u001b[0m\u001b[0;34m:\u001b[0m\u001b[0;34m\u001b[0m\u001b[0;34m\u001b[0m\u001b[0m\n\u001b[1;32m    195\u001b[0m             \u001b[0mdelete_fds\u001b[0m\u001b[0;34m.\u001b[0m\u001b[0mappend\u001b[0m\u001b[0;34m(\u001b[0m\u001b[0mfileobj\u001b[0m\u001b[0;34m)\u001b[0m\u001b[0;34m\u001b[0m\u001b[0;34m\u001b[0m\u001b[0m\n",
      "\u001b[0;31mFileNotFoundError\u001b[0m: [Errno 2] No such file or directory: 'GaiaDR2_RevisedPassbands.dat'"
     ]
    }
   ],
   "source": [
    "import astropy.io.ascii as ascii\n",
    "data = ascii.read('GaiaDR2_RevisedPassbands.dat')\n",
    "wl = data['wl']\n",
    "wl_a = wl * 10.0\n",
    "#print(wl_a)\n",
    "trans = data['G']\n",
    "#print(trans)\n",
    "import fwhm as fwhm\n",
    "import numpy as np\n",
    "print(np.max(trans))\n",
    "test = fwhm.main(wl_a,trans,0.5, 0.0)\n",
    "xx = np.linspace(0,9,10)\n",
    "yy = np.zeros(10)\n",
    "yy[0]=0.\n",
    "yy[1]=8.5\n",
    "yy[2]=10.\n",
    "yy[3]=9.5\n",
    "yy[4]=5.\n",
    "yy[5]=4.\n",
    "yy[6]=4.\n",
    "yy[7]=9.\n",
    "yy[8]=3.\n",
    "yy[9]=1.0\n",
    "#[0, 8.0, 10.0, 9.0, 8., 6, 5 ,4 ,3 ,1 ]\n",
    "from scipy import interpolate\n",
    "import numpy as np\n",
    "y_baseline = 0.\n",
    "y_shifted = yy - (yy.max()-y_baseline) * 0.5\n",
    "x_curve = interpolate.UnivariateSpline(xx, y_shifted, s=0)\n",
    "nroots = len(x_curve.roots())\n",
    "roots = x_curve.roots()\n",
    "print(roots)\n",
    "maxind = yy.argmax()\n",
    "print(maxind)\n",
    "vals1 = np.all([roots < xx[maxind]],axis=0)\n",
    "lenless = len(vals1)\n",
    "vals2 = np.all([roots > xx[maxind]],axis=0)\n",
    "print(min(roots[vals2]) - max(roots[vals1]))\n",
    "#test = fwhm.main(xx,yy,0.5, 0.0)\n",
    "#print(test)"
   ]
  },
  {
   "cell_type": "code",
   "execution_count": 3,
   "metadata": {},
   "outputs": [
    {
     "name": "stdout",
     "output_type": "stream",
     "text": [
      "3\n"
     ]
    }
   ],
   "source": [
    "print(len(test))"
   ]
  },
  {
   "cell_type": "code",
   "execution_count": null,
   "metadata": {},
   "outputs": [],
   "source": []
  }
 ],
 "metadata": {
  "kernelspec": {
   "display_name": "Python 3",
   "language": "python",
   "name": "python3"
  },
  "language_info": {
   "codemirror_mode": {
    "name": "ipython",
    "version": 3
   },
   "file_extension": ".py",
   "mimetype": "text/x-python",
   "name": "python",
   "nbconvert_exporter": "python",
   "pygments_lexer": "ipython3",
   "version": "3.6.8"
  }
 },
 "nbformat": 4,
 "nbformat_minor": 2
}
